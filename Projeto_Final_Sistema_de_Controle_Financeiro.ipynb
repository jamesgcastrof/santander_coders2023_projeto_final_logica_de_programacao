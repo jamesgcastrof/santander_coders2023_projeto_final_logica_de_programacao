{
  "cells": [
    {
      "cell_type": "markdown",
      "metadata": {
        "id": "view-in-github",
        "colab_type": "text"
      },
      "source": [
        "<a href=\"https://colab.research.google.com/github/jamesgcastrof/santander_coders2023_projeto_final_logica_de_programacao/blob/main/Projeto_Final_Sistema_de_Controle_Financeiro.ipynb\" target=\"_parent\"><img src=\"https://colab.research.google.com/assets/colab-badge.svg\" alt=\"Open In Colab\"/></a>"
      ]
    },
    {
      "cell_type": "markdown",
      "metadata": {
        "id": "9JIBAUI4AHOz"
      },
      "source": [
        "# **Projeto Final - Sistema de Controle Financeiro**\n",
        "### Grupo 1:\n",
        "Marcela Garcia\n",
        "\n",
        "\n",
        "Andre Rizzo\n",
        "\n",
        "\n",
        "James Castro\n",
        "\n",
        "Guilherme Bezerra\n",
        "\n",
        "Lucas Teixeira Souza"
      ]
    },
    {
      "cell_type": "markdown",
      "metadata": {
        "id": "HcQVTxEJ-s2e"
      },
      "source": [
        "## Import"
      ]
    },
    {
      "cell_type": "code",
      "execution_count": null,
      "metadata": {
        "id": "XKFUmCpKxZei"
      },
      "outputs": [],
      "source": [
        "import os\n",
        "import datetime\n",
        "import csv\n",
        "import json"
      ]
    },
    {
      "cell_type": "markdown",
      "metadata": {
        "id": "FAYMCinS-XPx"
      },
      "source": [
        "## **Operação 1**\n",
        "### Criar novos registros e identificar a data que o registro foi feito"
      ]
    },
    {
      "cell_type": "code",
      "execution_count": null,
      "metadata": {
        "id": "_ym9Zq8BEXZQ"
      },
      "outputs": [],
      "source": [
        "registros = []"
      ]
    },
    {
      "cell_type": "code",
      "execution_count": null,
      "metadata": {
        "id": "ePHX_4PAvKH-"
      },
      "outputs": [],
      "source": [
        "def criar_registro(tipo, valor, taxa=None):\n",
        "    registro = {}\n",
        "    data = datetime.datetime.now()\n",
        "\n",
        "    registro[\"tipo\"] = tipo.lower()\n",
        "    registro[\"data\"] = datetime.datetime.now()\n",
        "    registro[\"dia\"], registro[\"mes\"], registro[\"ano\"] = data.day, data.month, data.year\n",
        "    registro[\"valor\"] = -float(valor) if tipo == 'despesas' else float(valor)\n",
        "    registro[\"montante\"] = valor if tipo == \"investimento\" else None\n",
        "    registro[\"taxa\"] = taxa\n",
        "\n",
        "    registros.append(registro)"
      ]
    },
    {
      "cell_type": "code",
      "execution_count": null,
      "metadata": {
        "colab": {
          "base_uri": "https://localhost:8080/"
        },
        "id": "Pn30FSVPHK7d",
        "outputId": "ab332a3a-2b8a-4f1e-df7f-bf79d632310b"
      },
      "outputs": [
        {
          "output_type": "execute_result",
          "data": {
            "text/plain": [
              "[{'tipo': 'receita',\n",
              "  'data': datetime.datetime(2024, 1, 29, 10, 43, 30, 950420),\n",
              "  'dia': 29,\n",
              "  'mes': 1,\n",
              "  'ano': 2024,\n",
              "  'valor': 1000.0,\n",
              "  'montante': None,\n",
              "  'taxa': None},\n",
              " {'tipo': 'receita',\n",
              "  'data': datetime.datetime(2024, 1, 29, 10, 43, 30, 950462),\n",
              "  'dia': 29,\n",
              "  'mes': 1,\n",
              "  'ano': 2024,\n",
              "  'valor': 100.0,\n",
              "  'montante': None,\n",
              "  'taxa': None},\n",
              " {'tipo': 'receita',\n",
              "  'data': datetime.datetime(2024, 1, 29, 10, 43, 30, 950493),\n",
              "  'dia': 29,\n",
              "  'mes': 1,\n",
              "  'ano': 2024,\n",
              "  'valor': 10.0,\n",
              "  'montante': None,\n",
              "  'taxa': None},\n",
              " {'tipo': 'despesas',\n",
              "  'data': datetime.datetime(2024, 1, 29, 10, 43, 30, 950531),\n",
              "  'dia': 29,\n",
              "  'mes': 1,\n",
              "  'ano': 2024,\n",
              "  'valor': 500.0,\n",
              "  'montante': None,\n",
              "  'taxa': None},\n",
              " {'tipo': 'despesas',\n",
              "  'data': datetime.datetime(2024, 1, 29, 10, 43, 30, 950557),\n",
              "  'dia': 29,\n",
              "  'mes': 1,\n",
              "  'ano': 2024,\n",
              "  'valor': 50.0,\n",
              "  'montante': None,\n",
              "  'taxa': None},\n",
              " {'tipo': 'despesas',\n",
              "  'data': datetime.datetime(2024, 1, 29, 10, 43, 30, 950583),\n",
              "  'dia': 29,\n",
              "  'mes': 1,\n",
              "  'ano': 2024,\n",
              "  'valor': 5.0,\n",
              "  'montante': None,\n",
              "  'taxa': None},\n",
              " {'tipo': 'investimento',\n",
              "  'data': datetime.datetime(2024, 1, 29, 10, 43, 30, 950613),\n",
              "  'dia': 29,\n",
              "  'mes': 1,\n",
              "  'ano': 2024,\n",
              "  'valor': 1500.0,\n",
              "  'montante': None,\n",
              "  'taxa': 0.05},\n",
              " {'tipo': 'investimento',\n",
              "  'data': datetime.datetime(2024, 1, 29, 10, 43, 30, 950640),\n",
              "  'dia': 29,\n",
              "  'mes': 1,\n",
              "  'ano': 2024,\n",
              "  'valor': 150.0,\n",
              "  'montante': None,\n",
              "  'taxa': 0.04},\n",
              " {'tipo': 'investimento',\n",
              "  'data': datetime.datetime(2024, 1, 29, 10, 43, 30, 950691),\n",
              "  'dia': 29,\n",
              "  'mes': 1,\n",
              "  'ano': 2024,\n",
              "  'valor': 1000.0,\n",
              "  'montante': None,\n",
              "  'taxa': 0.06}]"
            ]
          },
          "metadata": {},
          "execution_count": 7
        }
      ],
      "source": [
        "# Testando a função criar_registro\n",
        "criar_registro('Receita', 1000)\n",
        "criar_registro('Receita', 100)\n",
        "criar_registro('Receita', 10)\n",
        "criar_registro('Despesas', 500)\n",
        "criar_registro('Despesas', 50)\n",
        "criar_registro('Despesas', 5)\n",
        "criar_registro('Investimento', 1500, 0.05)\n",
        "criar_registro('Investimento', 150, 0.04)\n",
        "criar_registro('Investimento', 1000, 0.06)\n",
        "registros\n"
      ]
    },
    {
      "cell_type": "markdown",
      "metadata": {
        "id": "MKuDDyeI-1Vf"
      },
      "source": [
        "## **Operação 2**\n",
        "### Ler registros"
      ]
    },
    {
      "cell_type": "code",
      "execution_count": null,
      "metadata": {
        "id": "jDj1QI81vtwL"
      },
      "outputs": [],
      "source": [
        "def ler_registros(data=None, tipo=None, valor=None):\n",
        "    def verifica_filtro(registro):\n",
        "        return (\n",
        "            (data is None or registro[\"data\"].strftime(\"%x\") == data.strftime(\"%x\")) and\n",
        "            (tipo is None or registro[\"tipo\"] == tipo) and\n",
        "            (valor is None or registro[\"valor\"] == valor)\n",
        "        )\n",
        "\n",
        "    registros_pesquisa = [registro for registro in registros if verifica_filtro(registro)]\n",
        "    return registros_pesquisa\n"
      ]
    },
    {
      "cell_type": "code",
      "execution_count": null,
      "metadata": {
        "colab": {
          "base_uri": "https://localhost:8080/"
        },
        "id": "qoA09wQaO0k2",
        "outputId": "65877b37-3635-4286-f189-558ee50a67c2"
      },
      "outputs": [
        {
          "output_type": "execute_result",
          "data": {
            "text/plain": [
              "[{'tipo': 'receita',\n",
              "  'data': datetime.datetime(2024, 1, 29, 10, 43, 30, 950420),\n",
              "  'dia': 29,\n",
              "  'mes': 1,\n",
              "  'ano': 2024,\n",
              "  'valor': 1000.0,\n",
              "  'montante': None,\n",
              "  'taxa': None},\n",
              " {'tipo': 'receita',\n",
              "  'data': datetime.datetime(2024, 1, 29, 10, 43, 30, 950462),\n",
              "  'dia': 29,\n",
              "  'mes': 1,\n",
              "  'ano': 2024,\n",
              "  'valor': 100.0,\n",
              "  'montante': None,\n",
              "  'taxa': None},\n",
              " {'tipo': 'receita',\n",
              "  'data': datetime.datetime(2024, 1, 29, 10, 43, 30, 950493),\n",
              "  'dia': 29,\n",
              "  'mes': 1,\n",
              "  'ano': 2024,\n",
              "  'valor': 10.0,\n",
              "  'montante': None,\n",
              "  'taxa': None},\n",
              " {'tipo': 'despesas',\n",
              "  'data': datetime.datetime(2024, 1, 29, 10, 43, 30, 950531),\n",
              "  'dia': 29,\n",
              "  'mes': 1,\n",
              "  'ano': 2024,\n",
              "  'valor': 500.0,\n",
              "  'montante': None,\n",
              "  'taxa': None},\n",
              " {'tipo': 'despesas',\n",
              "  'data': datetime.datetime(2024, 1, 29, 10, 43, 30, 950557),\n",
              "  'dia': 29,\n",
              "  'mes': 1,\n",
              "  'ano': 2024,\n",
              "  'valor': 50.0,\n",
              "  'montante': None,\n",
              "  'taxa': None},\n",
              " {'tipo': 'despesas',\n",
              "  'data': datetime.datetime(2024, 1, 29, 10, 43, 30, 950583),\n",
              "  'dia': 29,\n",
              "  'mes': 1,\n",
              "  'ano': 2024,\n",
              "  'valor': 5.0,\n",
              "  'montante': None,\n",
              "  'taxa': None},\n",
              " {'tipo': 'investimento',\n",
              "  'data': datetime.datetime(2024, 1, 29, 10, 43, 30, 950613),\n",
              "  'dia': 29,\n",
              "  'mes': 1,\n",
              "  'ano': 2024,\n",
              "  'valor': 1500.0,\n",
              "  'montante': None,\n",
              "  'taxa': 0.05},\n",
              " {'tipo': 'investimento',\n",
              "  'data': datetime.datetime(2024, 1, 29, 10, 43, 30, 950640),\n",
              "  'dia': 29,\n",
              "  'mes': 1,\n",
              "  'ano': 2024,\n",
              "  'valor': 150.0,\n",
              "  'montante': None,\n",
              "  'taxa': 0.04},\n",
              " {'tipo': 'investimento',\n",
              "  'data': datetime.datetime(2024, 1, 29, 10, 43, 30, 950691),\n",
              "  'dia': 29,\n",
              "  'mes': 1,\n",
              "  'ano': 2024,\n",
              "  'valor': 1000.0,\n",
              "  'montante': None,\n",
              "  'taxa': 0.06}]"
            ]
          },
          "metadata": {},
          "execution_count": 9
        }
      ],
      "source": [
        "ler_registros()"
      ]
    },
    {
      "cell_type": "code",
      "execution_count": null,
      "metadata": {
        "colab": {
          "base_uri": "https://localhost:8080/"
        },
        "id": "gHa-sq32O2UT",
        "outputId": "96a06f36-b3c3-4a88-8250-43eea0f8b5f6"
      },
      "outputs": [
        {
          "output_type": "execute_result",
          "data": {
            "text/plain": [
              "[{'tipo': 'receita',\n",
              "  'data': datetime.datetime(2024, 1, 26, 23, 29, 27, 181312),\n",
              "  'dia': 26,\n",
              "  'mes': 1,\n",
              "  'ano': 2024,\n",
              "  'valor': 1000.0,\n",
              "  'montante': None,\n",
              "  'taxa': None},\n",
              " {'tipo': 'receita',\n",
              "  'data': datetime.datetime(2024, 1, 26, 23, 29, 27, 181407),\n",
              "  'dia': 26,\n",
              "  'mes': 1,\n",
              "  'ano': 2024,\n",
              "  'valor': 100.0,\n",
              "  'montante': None,\n",
              "  'taxa': None},\n",
              " {'tipo': 'receita',\n",
              "  'data': datetime.datetime(2024, 1, 26, 23, 29, 27, 181467),\n",
              "  'dia': 26,\n",
              "  'mes': 1,\n",
              "  'ano': 2024,\n",
              "  'valor': 10.0,\n",
              "  'montante': None,\n",
              "  'taxa': None}]"
            ]
          },
          "metadata": {},
          "execution_count": 7
        }
      ],
      "source": [
        "ler_registros(tipo='receita')"
      ]
    },
    {
      "cell_type": "code",
      "execution_count": null,
      "metadata": {
        "colab": {
          "base_uri": "https://localhost:8080/"
        },
        "id": "obk5jmITO4kZ",
        "outputId": "38bd543c-a338-4f9c-c948-900cfc810c66"
      },
      "outputs": [
        {
          "output_type": "execute_result",
          "data": {
            "text/plain": [
              "[{'tipo': 'investimento',\n",
              "  'data': datetime.datetime(2024, 1, 26, 23, 29, 27, 181670),\n",
              "  'dia': 26,\n",
              "  'mes': 1,\n",
              "  'ano': 2024,\n",
              "  'valor': 1500.0,\n",
              "  'montante': None,\n",
              "  'taxa': 0.05}]"
            ]
          },
          "metadata": {},
          "execution_count": 8
        }
      ],
      "source": [
        "ler_registros(valor=1500)"
      ]
    },
    {
      "cell_type": "code",
      "execution_count": null,
      "metadata": {
        "colab": {
          "base_uri": "https://localhost:8080/"
        },
        "id": "1we5ey-EIb9R",
        "outputId": "035a958f-3dc7-41e2-a94f-af790218ed8c"
      },
      "outputs": [
        {
          "output_type": "execute_result",
          "data": {
            "text/plain": [
              "[{'tipo': 'receita',\n",
              "  'data': datetime.datetime(2024, 1, 26, 23, 29, 27, 181312),\n",
              "  'dia': 26,\n",
              "  'mes': 1,\n",
              "  'ano': 2024,\n",
              "  'valor': 1000.0,\n",
              "  'montante': None,\n",
              "  'taxa': None},\n",
              " {'tipo': 'receita',\n",
              "  'data': datetime.datetime(2024, 1, 26, 23, 29, 27, 181407),\n",
              "  'dia': 26,\n",
              "  'mes': 1,\n",
              "  'ano': 2024,\n",
              "  'valor': 100.0,\n",
              "  'montante': None,\n",
              "  'taxa': None},\n",
              " {'tipo': 'receita',\n",
              "  'data': datetime.datetime(2024, 1, 26, 23, 29, 27, 181467),\n",
              "  'dia': 26,\n",
              "  'mes': 1,\n",
              "  'ano': 2024,\n",
              "  'valor': 10.0,\n",
              "  'montante': None,\n",
              "  'taxa': None},\n",
              " {'tipo': 'despesas',\n",
              "  'data': datetime.datetime(2024, 1, 26, 23, 29, 27, 181519),\n",
              "  'dia': 26,\n",
              "  'mes': 1,\n",
              "  'ano': 2024,\n",
              "  'valor': 500.0,\n",
              "  'montante': None,\n",
              "  'taxa': None},\n",
              " {'tipo': 'despesas',\n",
              "  'data': datetime.datetime(2024, 1, 26, 23, 29, 27, 181577),\n",
              "  'dia': 26,\n",
              "  'mes': 1,\n",
              "  'ano': 2024,\n",
              "  'valor': 50.0,\n",
              "  'montante': None,\n",
              "  'taxa': None},\n",
              " {'tipo': 'despesas',\n",
              "  'data': datetime.datetime(2024, 1, 26, 23, 29, 27, 181621),\n",
              "  'dia': 26,\n",
              "  'mes': 1,\n",
              "  'ano': 2024,\n",
              "  'valor': 5.0,\n",
              "  'montante': None,\n",
              "  'taxa': None},\n",
              " {'tipo': 'investimento',\n",
              "  'data': datetime.datetime(2024, 1, 26, 23, 29, 27, 181670),\n",
              "  'dia': 26,\n",
              "  'mes': 1,\n",
              "  'ano': 2024,\n",
              "  'valor': 1500.0,\n",
              "  'montante': None,\n",
              "  'taxa': 0.05},\n",
              " {'tipo': 'investimento',\n",
              "  'data': datetime.datetime(2024, 1, 26, 23, 29, 27, 181716),\n",
              "  'dia': 26,\n",
              "  'mes': 1,\n",
              "  'ano': 2024,\n",
              "  'valor': 150.0,\n",
              "  'montante': None,\n",
              "  'taxa': 0.04},\n",
              " {'tipo': 'investimento',\n",
              "  'data': datetime.datetime(2024, 1, 26, 23, 29, 27, 181760),\n",
              "  'dia': 26,\n",
              "  'mes': 1,\n",
              "  'ano': 2024,\n",
              "  'valor': 1000.0,\n",
              "  'montante': None,\n",
              "  'taxa': 0.06}]"
            ]
          },
          "metadata": {},
          "execution_count": 9
        }
      ],
      "source": [
        "ler_registros(data=datetime.datetime.now())"
      ]
    },
    {
      "cell_type": "markdown",
      "metadata": {
        "id": "8ygkJO79_JUM"
      },
      "source": [
        "## Operação 3\n",
        "### Atualizar registros"
      ]
    },
    {
      "cell_type": "code",
      "execution_count": null,
      "metadata": {
        "id": "H8S2Dvs1_XN7"
      },
      "outputs": [],
      "source": [
        "def atualizar_registro(id, valor=None,tipo=None):\n",
        "  #data = datetime.date.today()\n",
        "\n",
        "  if 0 <= id < len(registros):\n",
        "    registro = registros[id]\n",
        "    if valor != None:\n",
        "      registro['valor'] = valor\n",
        "    if tipo != None:\n",
        "      registro['tipo'] = tipo.lower()\n",
        "      if registro['tipo'] == 'Despesas' and registro['valor'] > 0:\n",
        "              registro['valor'] = -registro['valor']\n",
        "    if valor == None and tipo == None:\n",
        "      print('Insira um Valor ou um Tipo para ser alterado no registro.')\n",
        "\n",
        "  registros[id]['data'] = datetime.datetime.now()\n",
        "  registros[id]['dia'] = registros[id]['data'].day\n",
        "  registros[id]['mes'] = registros[id]['data'].month\n",
        "  registros[id]['ano'] = registros[id]['data'].year\n"
      ]
    },
    {
      "cell_type": "code",
      "execution_count": null,
      "metadata": {
        "colab": {
          "base_uri": "https://localhost:8080/"
        },
        "id": "k0JhMp7iI-4W",
        "outputId": "5f45abbf-a693-452c-8ea5-ce259e12b2f3"
      },
      "outputs": [
        {
          "output_type": "execute_result",
          "data": {
            "text/plain": [
              "{'tipo': 'despesas',\n",
              " 'data': datetime.datetime(2024, 1, 29, 10, 44, 26, 69353),\n",
              " 'dia': 29,\n",
              " 'mes': 1,\n",
              " 'ano': 2024,\n",
              " 'valor': 200,\n",
              " 'montante': None,\n",
              " 'taxa': None}"
            ]
          },
          "metadata": {},
          "execution_count": 11
        }
      ],
      "source": [
        "# Testando a função atualizar_registro\n",
        "atualizar_registro(0, 200, 'Despesas')\n",
        "registros[0]"
      ]
    },
    {
      "cell_type": "markdown",
      "metadata": {
        "id": "-Q3zbhYY_RFA"
      },
      "source": [
        "## Operação 4\n",
        "### Deletar registros"
      ]
    },
    {
      "cell_type": "code",
      "execution_count": null,
      "metadata": {
        "id": "T4v1OP9Nvvxb"
      },
      "outputs": [],
      "source": [
        "# Função que deleta um registro com o id especificado.\n",
        "# A função recebe um id e verifica se ele é válido.\n",
        "# Se for válido, o registro correspondente é excluído.\n",
        "# Se não for válido, a mensagem \"Índice inválido\" é exibida.\n",
        "\n",
        "def deletar_registro(id):\n",
        "    if 0 <= id < len(registros):\n",
        "        del registros[id]\n",
        "    else:\n",
        "        print(\"Índice inválido\")"
      ]
    },
    {
      "cell_type": "code",
      "execution_count": null,
      "metadata": {
        "colab": {
          "base_uri": "https://localhost:8080/"
        },
        "id": "LYKfwl-pJV8N",
        "outputId": "ff671d7b-a691-40a1-c85c-00dcd73e008f"
      },
      "outputs": [
        {
          "output_type": "execute_result",
          "data": {
            "text/plain": [
              "[{'tipo': 'receita',\n",
              "  'data': datetime.datetime(2024, 1, 29, 10, 43, 30, 950462),\n",
              "  'dia': 29,\n",
              "  'mes': 1,\n",
              "  'ano': 2024,\n",
              "  'valor': 100.0,\n",
              "  'montante': None,\n",
              "  'taxa': None},\n",
              " {'tipo': 'receita',\n",
              "  'data': datetime.datetime(2024, 1, 29, 10, 43, 30, 950493),\n",
              "  'dia': 29,\n",
              "  'mes': 1,\n",
              "  'ano': 2024,\n",
              "  'valor': 10.0,\n",
              "  'montante': None,\n",
              "  'taxa': None},\n",
              " {'tipo': 'despesas',\n",
              "  'data': datetime.datetime(2024, 1, 29, 10, 43, 30, 950531),\n",
              "  'dia': 29,\n",
              "  'mes': 1,\n",
              "  'ano': 2024,\n",
              "  'valor': 500.0,\n",
              "  'montante': None,\n",
              "  'taxa': None},\n",
              " {'tipo': 'despesas',\n",
              "  'data': datetime.datetime(2024, 1, 29, 10, 43, 30, 950557),\n",
              "  'dia': 29,\n",
              "  'mes': 1,\n",
              "  'ano': 2024,\n",
              "  'valor': 50.0,\n",
              "  'montante': None,\n",
              "  'taxa': None},\n",
              " {'tipo': 'despesas',\n",
              "  'data': datetime.datetime(2024, 1, 29, 10, 43, 30, 950583),\n",
              "  'dia': 29,\n",
              "  'mes': 1,\n",
              "  'ano': 2024,\n",
              "  'valor': 5.0,\n",
              "  'montante': None,\n",
              "  'taxa': None},\n",
              " {'tipo': 'investimento',\n",
              "  'data': datetime.datetime(2024, 1, 29, 10, 43, 30, 950613),\n",
              "  'dia': 29,\n",
              "  'mes': 1,\n",
              "  'ano': 2024,\n",
              "  'valor': 1500.0,\n",
              "  'montante': None,\n",
              "  'taxa': 0.05},\n",
              " {'tipo': 'investimento',\n",
              "  'data': datetime.datetime(2024, 1, 29, 10, 43, 30, 950640),\n",
              "  'dia': 29,\n",
              "  'mes': 1,\n",
              "  'ano': 2024,\n",
              "  'valor': 150.0,\n",
              "  'montante': None,\n",
              "  'taxa': 0.04},\n",
              " {'tipo': 'investimento',\n",
              "  'data': datetime.datetime(2024, 1, 29, 10, 43, 30, 950691),\n",
              "  'dia': 29,\n",
              "  'mes': 1,\n",
              "  'ano': 2024,\n",
              "  'valor': 1000.0,\n",
              "  'montante': None,\n",
              "  'taxa': 0.06}]"
            ]
          },
          "metadata": {},
          "execution_count": 13
        }
      ],
      "source": [
        "# Testando a operação\n",
        "deletar_registro(0)\n",
        "registros"
      ]
    },
    {
      "cell_type": "markdown",
      "metadata": {
        "id": "SUIMDT05_iLl"
      },
      "source": [
        "## Outras funcionalidades\n",
        "### 1. Atualiza rendimento/investimento\n",
        "\n"
      ]
    },
    {
      "cell_type": "code",
      "execution_count": null,
      "metadata": {
        "id": "5KBS406gxgOl"
      },
      "outputs": [],
      "source": [
        "def atualiza_rendimento(id):\n",
        "    if 0 <= id < len(registros):\n",
        "        registro = registros[id]\n",
        "        if registro['tipo'] == 'investimento':\n",
        "            t = (datetime.datetime.now() - datetime.datetime(registro['ano'], registro['mes'], registro['dia'])).days\n",
        "            registro['montante'] = registro['valor'] * (1 + registro['taxa']) ** t\n",
        "        else:\n",
        "            print('Registro indicado não corresponde à um registro de Investimento')"
      ]
    },
    {
      "cell_type": "code",
      "execution_count": null,
      "metadata": {
        "colab": {
          "base_uri": "https://localhost:8080/"
        },
        "id": "qQes1_U5Jpjt",
        "outputId": "7b25bbe9-9a5b-48c0-9fcc-23b4d66ad30d"
      },
      "outputs": [
        {
          "output_type": "execute_result",
          "data": {
            "text/plain": [
              "{'tipo': 'investimento',\n",
              " 'data': datetime.datetime(2024, 1, 29, 10, 43, 30, 950640),\n",
              " 'dia': 29,\n",
              " 'mes': 1,\n",
              " 'ano': 2024,\n",
              " 'valor': 150.0,\n",
              " 'montante': 150.0,\n",
              " 'taxa': 0.04}"
            ]
          },
          "metadata": {},
          "execution_count": 15
        }
      ],
      "source": [
        "# Testando a operação\n",
        "\n",
        "atualiza_rendimento(6)\n",
        "registros[6]"
      ]
    },
    {
      "cell_type": "markdown",
      "metadata": {
        "id": "42tOLXuv_xFE"
      },
      "source": [
        "### 2. Exporta relatório\n",
        "\n"
      ]
    },
    {
      "cell_type": "code",
      "execution_count": null,
      "metadata": {
        "id": "wTP1mZsmv99w"
      },
      "outputs": [],
      "source": [
        "def exportar_relatorio(formato, registros):\n",
        "    campos = [\"tipo\", \"dia\", \"mes\", \"ano\", \"valor\", \"montante\", \"taxa\"]\n",
        "\n",
        "    if formato == \"csv\":\n",
        "        with open(\"relatorio.csv\", \"w\", newline='') as f:\n",
        "            writer = csv.DictWriter(f, fieldnames=campos)\n",
        "            writer.writeheader()\n",
        "            for registro in registros:\n",
        "                writer.writerow({campo: registro[campo] for campo in campos})\n",
        "    elif formato == \"json\":\n",
        "        with open(\"relatorio.json\", \"w\") as f:\n",
        "            relatorio_json = [\n",
        "                {campo: registro[campo] for campo in campos} for registro in registros\n",
        "            ]\n",
        "            json.dump(relatorio_json, f, indent=4)\n",
        "    else:\n",
        "        raise Exception('Formato de arquivo inválido. Só são aceitos os formatos csv e json')"
      ]
    },
    {
      "cell_type": "code",
      "execution_count": null,
      "metadata": {
        "id": "jS-tS0OACn4S"
      },
      "outputs": [],
      "source": [
        "exportar_relatorio('csv', registros)"
      ]
    },
    {
      "cell_type": "markdown",
      "metadata": {
        "id": "kZ44swvA9A3X"
      },
      "source": []
    },
    {
      "cell_type": "markdown",
      "metadata": {
        "id": "0gfh6OpB_xff"
      },
      "source": [
        "### 3. Função de agrupamento"
      ]
    },
    {
      "cell_type": "code",
      "execution_count": null,
      "metadata": {
        "id": "d8v0CU1r3stB"
      },
      "outputs": [],
      "source": [
        "#Agrupa os registros financeiros com base em uma chave específica.\n",
        "\n",
        "def agrupar_por_chave(chave):\n",
        "    agrupamento = {}\n",
        "    for registro in registros:\n",
        "        valor_chave = registro[chave]\n",
        "        if valor_chave in agrupamento:\n",
        "            agrupamento[valor_chave]['total_valor'] += registro['valor']\n",
        "        else:\n",
        "            agrupamento[valor_chave] = {'total_valor': registro['valor'], 'quantidade': 1}\n",
        "    return agrupamento"
      ]
    },
    {
      "cell_type": "code",
      "execution_count": null,
      "metadata": {
        "colab": {
          "base_uri": "https://localhost:8080/"
        },
        "id": "c7HJDN5a-JLE",
        "outputId": "a394c457-9380-4f31-d883-e06ee87957cb"
      },
      "outputs": [
        {
          "output_type": "execute_result",
          "data": {
            "text/plain": [
              "{'receita': {'total_valor': 110.0, 'quantidade': 1},\n",
              " 'despesas': {'total_valor': 555.0, 'quantidade': 1},\n",
              " 'investimento': {'total_valor': 2650.0, 'quantidade': 1}}"
            ]
          },
          "metadata": {},
          "execution_count": 19
        }
      ],
      "source": [
        "agrupar_por_chave('tipo')"
      ]
    },
    {
      "cell_type": "code",
      "execution_count": null,
      "metadata": {
        "id": "JIyYucc00FDi"
      },
      "outputs": [],
      "source": [
        "#Funcao agrega por total em cada mes e tipo\n",
        "def agrupar_por_tipo_mes():\n",
        "    meses = {1: 'jan', 2: 'fev', 3: 'mar', 4: 'abr', 5: 'mai', 6: 'jun', 7: 'jul', 8: 'ago', 9: 'set', 10: 'out', 11: 'nov', 12: 'dez'}\n",
        "    agrupamento = {}\n",
        "    for registro in registros:\n",
        "        if registro['tipo'] in ['investimento', 'despesas', 'receita']:\n",
        "            if registro['tipo'] not in agrupamento:\n",
        "                agrupamento[registro['tipo']] = {}\n",
        "            mes = meses[registro['mes']]\n",
        "            if mes not in agrupamento[registro['tipo']]:\n",
        "                agrupamento[registro['tipo']][mes] = 0\n",
        "            agrupamento[registro['tipo']][mes] += registro['valor']\n",
        "    return agrupamento\n"
      ]
    },
    {
      "cell_type": "code",
      "execution_count": null,
      "metadata": {
        "colab": {
          "base_uri": "https://localhost:8080/"
        },
        "id": "1gvB00Fjzwrm",
        "outputId": "890827fa-021a-4e06-94e0-6c6dbcac570e"
      },
      "outputs": [
        {
          "output_type": "execute_result",
          "data": {
            "text/plain": [
              "{'receita': {'jan': 110.0},\n",
              " 'despesas': {'jan': 555.0},\n",
              " 'investimento': {'jan': 2650.0}}"
            ]
          },
          "metadata": {},
          "execution_count": 21
        }
      ],
      "source": [
        "agrupar_por_tipo_mes()"
      ]
    }
  ],
  "metadata": {
    "colab": {
      "provenance": [],
      "include_colab_link": true
    },
    "kernelspec": {
      "display_name": "Python 3",
      "name": "python3"
    },
    "language_info": {
      "name": "python"
    }
  },
  "nbformat": 4,
  "nbformat_minor": 0
}